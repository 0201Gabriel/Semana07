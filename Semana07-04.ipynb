{
 "cells": [
  {
   "cell_type": "markdown",
   "id": "e9579fba",
   "metadata": {},
   "source": [
    "# Semana 07\n",
    "Anthony Gabriel Bailon Villugas"
   ]
  },
  {
   "cell_type": "raw",
   "id": "b11f25ec",
   "metadata": {},
   "source": [
    "Temas:\n",
    "    1. Numeros\n",
    "    2. Variables\n",
    "    3. Manejo de cadenas\n",
    "    4. Ingreso de Datos por el Teclado\n",
    "    5. Operadores"
   ]
  },
  {
   "cell_type": "code",
   "execution_count": 1,
   "id": "e77071fa",
   "metadata": {},
   "outputs": [
    {
     "name": "stdout",
     "output_type": "stream",
     "text": [
      "¿cual es tu nombre?\n",
      "Anrhony\n",
      "hola Anrhony\n"
     ]
    }
   ],
   "source": [
    "#funcion input()\n",
    "print(\"¿cual es tu nombre?\")\n",
    "nombre = input()\n",
    "print(\"hola \" + nombre)"
   ]
  },
  {
   "cell_type": "code",
   "execution_count": 2,
   "id": "14541242",
   "metadata": {},
   "outputs": [
    {
     "name": "stdout",
     "output_type": "stream",
     "text": [
      "numero 1: \n",
      "4\n",
      "numero 2: \n",
      "5\n",
      "el resultado es 9\n"
     ]
    }
   ],
   "source": [
    "#cuando ingresa un valor por teclado lo hace como cadena\n",
    "print(\"numero 1: \")\n",
    "numero1= input()\n",
    "print(\"numero 2: \")\n",
    "numero2 = input()\n",
    "numero3= int(numero1) + int(numero2)\n",
    "print(f\"el resultado es {numero3}\")"
   ]
  },
  {
   "cell_type": "code",
   "execution_count": null,
   "id": "cadcad95",
   "metadata": {},
   "outputs": [],
   "source": []
  }
 ],
 "metadata": {
  "kernelspec": {
   "display_name": "Python 3 (ipykernel)",
   "language": "python",
   "name": "python3"
  },
  "language_info": {
   "codemirror_mode": {
    "name": "ipython",
    "version": 3
   },
   "file_extension": ".py",
   "mimetype": "text/x-python",
   "name": "python",
   "nbconvert_exporter": "python",
   "pygments_lexer": "ipython3",
   "version": "3.9.12"
  }
 },
 "nbformat": 4,
 "nbformat_minor": 5
}
