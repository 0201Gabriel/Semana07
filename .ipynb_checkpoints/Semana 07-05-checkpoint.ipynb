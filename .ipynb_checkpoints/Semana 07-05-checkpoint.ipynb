{
 "cells": [
  {
   "cell_type": "markdown",
   "id": "593952bd",
   "metadata": {},
   "source": [
    "# Semana 07\n",
    "Anthony Gabriel Bailon Villugas"
   ]
  },
  {
   "cell_type": "raw",
   "id": "c8f9cfe7",
   "metadata": {},
   "source": [
    "Temas:\n",
    "    1. Numeros\n",
    "    2. Variables\n",
    "    3. Manejo de cadenas\n",
    "    4. Ingreso de Datos por el Teclado\n",
    "    5. Operadores"
   ]
  },
  {
   "cell_type": "markdown",
   "id": "871d19a2",
   "metadata": {},
   "source": [
    "5. Operadores"
   ]
  },
  {
   "cell_type": "code",
   "execution_count": 2,
   "id": "dd43d9d1",
   "metadata": {},
   "outputs": [],
   "source": [
    "#5.1 Operadores aritmeticos\n",
    "# se tiene: +, - , *, /, **, %, //"
   ]
  },
  {
   "cell_type": "code",
   "execution_count": 4,
   "id": "e51aea92",
   "metadata": {},
   "outputs": [
    {
     "name": "stdout",
     "output_type": "stream",
     "text": [
      "13\n",
      "7\n",
      "30\n",
      "3.3333333333333335\n",
      "1\n",
      "3\n",
      "1000\n"
     ]
    }
   ],
   "source": [
    "numero1 =10\n",
    "numero2= 3\n",
    "suma = numero1 + numero2\n",
    "resta = numero1 - numero2\n",
    "multiplicacion = numero1*numero2\n",
    "division = numero1/numero2\n",
    "residuo =  numero1 % numero2\n",
    "cociente = numero1 // numero2\n",
    "potencia = numero1 ** numero2\n",
    "print(suma)\n",
    "print(resta)\n",
    "print(multiplicacion)\n",
    "print(division)\n",
    "print(residuo)\n",
    "print(cociente)\n",
    "print(potencia)"
   ]
  },
  {
   "cell_type": "code",
   "execution_count": 5,
   "id": "dbca40ec",
   "metadata": {},
   "outputs": [
    {
     "name": "stdout",
     "output_type": "stream",
     "text": [
      "8\n"
     ]
    }
   ],
   "source": [
    "#5.2 Operaciones de asignacion\n",
    "#se tiene: =, +=, -=, /=, **=\n",
    "numero = 5\n",
    "numero = numero + 3\n",
    "print (numero)"
   ]
  },
  {
   "cell_type": "code",
   "execution_count": 6,
   "id": "2298f6fc",
   "metadata": {},
   "outputs": [
    {
     "name": "stdout",
     "output_type": "stream",
     "text": [
      "8\n"
     ]
    }
   ],
   "source": [
    "#la operacion anterior tambien se puede expresar de la siguiente manera:\n",
    "numero = 5\n",
    "numero += 3\n",
    "print(numero)"
   ]
  },
  {
   "cell_type": "code",
   "execution_count": 7,
   "id": "d2fff396",
   "metadata": {},
   "outputs": [
    {
     "name": "stdout",
     "output_type": "stream",
     "text": [
      "125\n"
     ]
    }
   ],
   "source": [
    "#lo mismo se puede hacer con todos los casos, incluso la potencia\n",
    "#veamos otro ejemplo:\n",
    "numero=5\n",
    "numero = numero ** 3\n",
    "print(numero)"
   ]
  },
  {
   "cell_type": "code",
   "execution_count": 8,
   "id": "c8ea62e7",
   "metadata": {},
   "outputs": [
    {
     "name": "stdout",
     "output_type": "stream",
     "text": [
      "125\n"
     ]
    }
   ],
   "source": [
    "#la operacion anterior tambien se puede expresar de la siguiente manera:\n",
    "numero = 5\n",
    "numero **= 3\n",
    "print(numero)"
   ]
  },
  {
   "cell_type": "code",
   "execution_count": 9,
   "id": "c393efab",
   "metadata": {},
   "outputs": [],
   "source": [
    "#5.3 operaciones de comparacion\n",
    "# se tiene: ==, !=, <, <=, >=,"
   ]
  },
  {
   "cell_type": "code",
   "execution_count": 10,
   "id": "1b89b69f",
   "metadata": {},
   "outputs": [
    {
     "data": {
      "text/plain": [
       "False"
      ]
     },
     "execution_count": 10,
     "metadata": {},
     "output_type": "execute_result"
    }
   ],
   "source": [
    "#ejemplo de igualdad ==\n",
    "numero1 = 5\n",
    "numero2 = 2\n",
    "numero1 == numero2"
   ]
  },
  {
   "cell_type": "code",
   "execution_count": 11,
   "id": "e9ed4f2e",
   "metadata": {},
   "outputs": [
    {
     "data": {
      "text/plain": [
       "True"
      ]
     },
     "execution_count": 11,
     "metadata": {},
     "output_type": "execute_result"
    }
   ],
   "source": [
    "#con las cadenas funciona igual\n",
    "nombre1 =\"juan\"\n",
    "nombre2 = \"juan\"\n",
    "nombre1 == nombre2"
   ]
  },
  {
   "cell_type": "code",
   "execution_count": 12,
   "id": "6619fc34",
   "metadata": {},
   "outputs": [],
   "source": [
    "#5.4 operadores logicos\n",
    "#se tiene and, or, not\n",
    "numero1= 5\n",
    "numero2 = 6\n",
    "numero3 = 7\n",
    "numero4 = 8"
   ]
  },
  {
   "cell_type": "code",
   "execution_count": 13,
   "id": "55b0dfc9",
   "metadata": {},
   "outputs": [
    {
     "data": {
      "text/plain": [
       "True"
      ]
     },
     "execution_count": 13,
     "metadata": {},
     "output_type": "execute_result"
    }
   ],
   "source": [
    "numero1<numero2"
   ]
  },
  {
   "cell_type": "code",
   "execution_count": 14,
   "id": "02cf4d9a",
   "metadata": {},
   "outputs": [
    {
     "data": {
      "text/plain": [
       "False"
      ]
     },
     "execution_count": 14,
     "metadata": {},
     "output_type": "execute_result"
    }
   ],
   "source": [
    "not(numero1<numero2)"
   ]
  },
  {
   "cell_type": "code",
   "execution_count": 15,
   "id": "4ae8bf96",
   "metadata": {},
   "outputs": [
    {
     "data": {
      "text/plain": [
       "True"
      ]
     },
     "execution_count": 15,
     "metadata": {},
     "output_type": "execute_result"
    }
   ],
   "source": [
    "numero1<numero2 and numero3<numero4"
   ]
  },
  {
   "cell_type": "code",
   "execution_count": 16,
   "id": "8af55845",
   "metadata": {},
   "outputs": [
    {
     "data": {
      "text/plain": [
       "True"
      ]
     },
     "execution_count": 16,
     "metadata": {},
     "output_type": "execute_result"
    }
   ],
   "source": [
    "#tambien puedes utilizar parentesis para ordenar tu operacion\n",
    "(numero1<numero2 and numero3<numero4) or (numero3>numero4)"
   ]
  },
  {
   "cell_type": "code",
   "execution_count": 17,
   "id": "80c69250",
   "metadata": {},
   "outputs": [],
   "source": [
    "#5.5 operaciones de pertenencia\n",
    "# se tiene: in, not in"
   ]
  },
  {
   "cell_type": "code",
   "execution_count": 18,
   "id": "61a9f14a",
   "metadata": {},
   "outputs": [],
   "source": [
    "#miremos un ejemplo\n",
    "aula = [\"Juan\", \"Daniel\", \"Ruben\"]\n",
    "alumno1 = \"Diego\"\n",
    "alumno2 = \"Juan\""
   ]
  },
  {
   "cell_type": "code",
   "execution_count": 19,
   "id": "bea2b51d",
   "metadata": {},
   "outputs": [
    {
     "data": {
      "text/plain": [
       "False"
      ]
     },
     "execution_count": 19,
     "metadata": {},
     "output_type": "execute_result"
    }
   ],
   "source": [
    "#¿Diego está en aula?\n",
    "alumno1 in aula"
   ]
  },
  {
   "cell_type": "code",
   "execution_count": 20,
   "id": "b30421e6",
   "metadata": {},
   "outputs": [
    {
     "data": {
      "text/plain": [
       "True"
      ]
     },
     "execution_count": 20,
     "metadata": {},
     "output_type": "execute_result"
    }
   ],
   "source": [
    "#¿Juan esta en aula?\n",
    "alumno2 in aula"
   ]
  },
  {
   "cell_type": "code",
   "execution_count": 21,
   "id": "7143a87f",
   "metadata": {},
   "outputs": [
    {
     "data": {
      "text/plain": [
       "True"
      ]
     },
     "execution_count": 21,
     "metadata": {},
     "output_type": "execute_result"
    }
   ],
   "source": [
    "#¿Diego no esta en aula?\n",
    "alumno1 not in aula"
   ]
  },
  {
   "cell_type": "code",
   "execution_count": null,
   "id": "46b0fe39",
   "metadata": {},
   "outputs": [],
   "source": []
  }
 ],
 "metadata": {
  "kernelspec": {
   "display_name": "Python 3 (ipykernel)",
   "language": "python",
   "name": "python3"
  },
  "language_info": {
   "codemirror_mode": {
    "name": "ipython",
    "version": 3
   },
   "file_extension": ".py",
   "mimetype": "text/x-python",
   "name": "python",
   "nbconvert_exporter": "python",
   "pygments_lexer": "ipython3",
   "version": "3.9.12"
  }
 },
 "nbformat": 4,
 "nbformat_minor": 5
}
